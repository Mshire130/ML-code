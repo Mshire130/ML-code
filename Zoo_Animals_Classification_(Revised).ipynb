{
  "nbformat": 4,
  "nbformat_minor": 0,
  "metadata": {
    "colab": {
      "name": "Zoo Animals Classification (Revised)",
      "version": "0.3.2",
      "provenance": [],
      "collapsed_sections": []
    },
    "kernelspec": {
      "name": "python3",
      "display_name": "Python 3"
    }
  },
  "cells": [
    {
      "cell_type": "code",
      "metadata": {
        "id": "4E3z-_SBPsOj",
        "colab_type": "code",
        "colab": {
          "base_uri": "https://localhost:8080/",
          "height": 35
        },
        "outputId": "4ae0bed0-fc01-4cd7-dab2-885e7261dbce"
      },
      "source": [
        "# TensorFlow and tf.keras\n",
        "import tensorflow as tf\n",
        "from tensorflow import keras\n",
        "\n",
        "# Helper libraries \n",
        "import pandas as pd \n",
        "import numpy as np\n",
        "import matplotlib.pyplot as plt\n",
        "\n",
        "print(tf.__version__)"
      ],
      "execution_count": 1,
      "outputs": [
        {
          "output_type": "stream",
          "text": [
            "1.14.0-rc1\n"
          ],
          "name": "stdout"
        }
      ]
    },
    {
      "cell_type": "code",
      "metadata": {
        "id": "AT3ehMdHPu0Z",
        "colab_type": "code",
        "colab": {
          "base_uri": "https://localhost:8080/",
          "height": 200
        },
        "outputId": "97c67c76-b23f-4e93-f011-014ecf38891f"
      },
      "source": [
        "#Pulling data from github \n",
        "url = 'https://raw.githubusercontent.com/Mshire130/Ml-datasets/master/zoo.csv'\n",
        "df = pd.read_csv(url)\n",
        "df.head() "
      ],
      "execution_count": 2,
      "outputs": [
        {
          "output_type": "execute_result",
          "data": {
            "text/html": [
              "<div>\n",
              "<style scoped>\n",
              "    .dataframe tbody tr th:only-of-type {\n",
              "        vertical-align: middle;\n",
              "    }\n",
              "\n",
              "    .dataframe tbody tr th {\n",
              "        vertical-align: top;\n",
              "    }\n",
              "\n",
              "    .dataframe thead th {\n",
              "        text-align: right;\n",
              "    }\n",
              "</style>\n",
              "<table border=\"1\" class=\"dataframe\">\n",
              "  <thead>\n",
              "    <tr style=\"text-align: right;\">\n",
              "      <th></th>\n",
              "      <th>animal_name</th>\n",
              "      <th>hair</th>\n",
              "      <th>feathers</th>\n",
              "      <th>eggs</th>\n",
              "      <th>milk</th>\n",
              "      <th>airborne</th>\n",
              "      <th>aquatic</th>\n",
              "      <th>predator</th>\n",
              "      <th>toothed</th>\n",
              "      <th>backbone</th>\n",
              "      <th>breathes</th>\n",
              "      <th>venomous</th>\n",
              "      <th>fins</th>\n",
              "      <th>legs</th>\n",
              "      <th>tail</th>\n",
              "      <th>domestic</th>\n",
              "      <th>catsize</th>\n",
              "      <th>class_type</th>\n",
              "    </tr>\n",
              "  </thead>\n",
              "  <tbody>\n",
              "    <tr>\n",
              "      <th>0</th>\n",
              "      <td>aardvark</td>\n",
              "      <td>1</td>\n",
              "      <td>0</td>\n",
              "      <td>0</td>\n",
              "      <td>1</td>\n",
              "      <td>0</td>\n",
              "      <td>0</td>\n",
              "      <td>1</td>\n",
              "      <td>1</td>\n",
              "      <td>1</td>\n",
              "      <td>1</td>\n",
              "      <td>0</td>\n",
              "      <td>0</td>\n",
              "      <td>4</td>\n",
              "      <td>0</td>\n",
              "      <td>0</td>\n",
              "      <td>1</td>\n",
              "      <td>1</td>\n",
              "    </tr>\n",
              "    <tr>\n",
              "      <th>1</th>\n",
              "      <td>antelope</td>\n",
              "      <td>1</td>\n",
              "      <td>0</td>\n",
              "      <td>0</td>\n",
              "      <td>1</td>\n",
              "      <td>0</td>\n",
              "      <td>0</td>\n",
              "      <td>0</td>\n",
              "      <td>1</td>\n",
              "      <td>1</td>\n",
              "      <td>1</td>\n",
              "      <td>0</td>\n",
              "      <td>0</td>\n",
              "      <td>4</td>\n",
              "      <td>1</td>\n",
              "      <td>0</td>\n",
              "      <td>1</td>\n",
              "      <td>1</td>\n",
              "    </tr>\n",
              "    <tr>\n",
              "      <th>2</th>\n",
              "      <td>bass</td>\n",
              "      <td>0</td>\n",
              "      <td>0</td>\n",
              "      <td>1</td>\n",
              "      <td>0</td>\n",
              "      <td>0</td>\n",
              "      <td>1</td>\n",
              "      <td>1</td>\n",
              "      <td>1</td>\n",
              "      <td>1</td>\n",
              "      <td>0</td>\n",
              "      <td>0</td>\n",
              "      <td>1</td>\n",
              "      <td>0</td>\n",
              "      <td>1</td>\n",
              "      <td>0</td>\n",
              "      <td>0</td>\n",
              "      <td>4</td>\n",
              "    </tr>\n",
              "    <tr>\n",
              "      <th>3</th>\n",
              "      <td>bear</td>\n",
              "      <td>1</td>\n",
              "      <td>0</td>\n",
              "      <td>0</td>\n",
              "      <td>1</td>\n",
              "      <td>0</td>\n",
              "      <td>0</td>\n",
              "      <td>1</td>\n",
              "      <td>1</td>\n",
              "      <td>1</td>\n",
              "      <td>1</td>\n",
              "      <td>0</td>\n",
              "      <td>0</td>\n",
              "      <td>4</td>\n",
              "      <td>0</td>\n",
              "      <td>0</td>\n",
              "      <td>1</td>\n",
              "      <td>1</td>\n",
              "    </tr>\n",
              "    <tr>\n",
              "      <th>4</th>\n",
              "      <td>boar</td>\n",
              "      <td>1</td>\n",
              "      <td>0</td>\n",
              "      <td>0</td>\n",
              "      <td>1</td>\n",
              "      <td>0</td>\n",
              "      <td>0</td>\n",
              "      <td>1</td>\n",
              "      <td>1</td>\n",
              "      <td>1</td>\n",
              "      <td>1</td>\n",
              "      <td>0</td>\n",
              "      <td>0</td>\n",
              "      <td>4</td>\n",
              "      <td>1</td>\n",
              "      <td>0</td>\n",
              "      <td>1</td>\n",
              "      <td>1</td>\n",
              "    </tr>\n",
              "  </tbody>\n",
              "</table>\n",
              "</div>"
            ],
            "text/plain": [
              "  animal_name  hair  feathers  eggs  ...  tail  domestic  catsize  class_type\n",
              "0    aardvark     1         0     0  ...     0         0        1           1\n",
              "1    antelope     1         0     0  ...     1         0        1           1\n",
              "2        bass     0         0     1  ...     1         0        0           4\n",
              "3        bear     1         0     0  ...     0         0        1           1\n",
              "4        boar     1         0     0  ...     1         0        1           1\n",
              "\n",
              "[5 rows x 18 columns]"
            ]
          },
          "metadata": {
            "tags": []
          },
          "execution_count": 2
        }
      ]
    },
    {
      "cell_type": "code",
      "metadata": {
        "id": "XtkJSSFaQCfg",
        "colab_type": "code",
        "colab": {
          "base_uri": "https://localhost:8080/",
          "height": 35
        },
        "outputId": "5feae3d6-b42d-4ebd-ea5b-e589e1d5d760"
      },
      "source": [
        "class_dict = {\n",
        "    0 : 'Mammal',\n",
        "    1 : 'Bird',\n",
        "    2 : 'Reptile',\n",
        "    3 : 'Fish',\n",
        "    4 : 'Amphibian',\n",
        "    5 : 'Bug',\n",
        "    6 : 'Invertebrate'\n",
        "} \n",
        "\n",
        "class_dict[5]"
      ],
      "execution_count": 22,
      "outputs": [
        {
          "output_type": "execute_result",
          "data": {
            "text/plain": [
              "'Bug'"
            ]
          },
          "metadata": {
            "tags": []
          },
          "execution_count": 22
        }
      ]
    },
    {
      "cell_type": "code",
      "metadata": {
        "id": "yWn65wxYQFeR",
        "colab_type": "code",
        "colab": {
          "base_uri": "https://localhost:8080/",
          "height": 355
        },
        "outputId": "d2762c63-f98a-4e1a-be59-bb764eed3409"
      },
      "source": [
        "#Checking for any NaN values within the dataframe\n",
        "df.isnull().any()"
      ],
      "execution_count": 4,
      "outputs": [
        {
          "output_type": "execute_result",
          "data": {
            "text/plain": [
              "animal_name    False\n",
              "hair           False\n",
              "feathers       False\n",
              "eggs           False\n",
              "milk           False\n",
              "airborne       False\n",
              "aquatic        False\n",
              "predator       False\n",
              "toothed        False\n",
              "backbone       False\n",
              "breathes       False\n",
              "venomous       False\n",
              "fins           False\n",
              "legs           False\n",
              "tail           False\n",
              "domestic       False\n",
              "catsize        False\n",
              "class_type     False\n",
              "dtype: bool"
            ]
          },
          "metadata": {
            "tags": []
          },
          "execution_count": 4
        }
      ]
    },
    {
      "cell_type": "code",
      "metadata": {
        "id": "mGrGs6Q0QJlh",
        "colab_type": "code",
        "colab": {}
      },
      "source": [
        "#Splitting the sample into train and test data \n",
        "train_data = df.sample(frac=0.7, random_state=0)\n",
        "test_data = df.drop(train_data.index)\n",
        "\n",
        "train_data['class_type'] = train_data['class_type'] - 1\n",
        "test_data['class_type'] = test_data['class_type'] - 1 \n"
      ],
      "execution_count": 0,
      "outputs": []
    },
    {
      "cell_type": "code",
      "metadata": {
        "id": "qYZpGOmXb8_p",
        "colab_type": "code",
        "colab": {}
      },
      "source": [
        "train_label = train_data['class_type']\n",
        "train_label.columns = ['Index','class_type']"
      ],
      "execution_count": 0,
      "outputs": []
    },
    {
      "cell_type": "code",
      "metadata": {
        "id": "1IhzKscdcVZp",
        "colab_type": "code",
        "colab": {}
      },
      "source": [
        "#To remove animal_name category as its useless when being used to categorize the animals\n",
        "train_label = train_data.pop('class_type')\n",
        "test_label = test_data.pop('class_type') \n",
        "\n",
        "train_label1 = train_data.pop('animal_name')\n",
        "test_label1 = test_data.pop('animal_name')"
      ],
      "execution_count": 0,
      "outputs": []
    },
    {
      "cell_type": "code",
      "metadata": {
        "id": "JII5EdNqdmaF",
        "colab_type": "code",
        "colab": {
          "base_uri": "https://localhost:8080/",
          "height": 108
        },
        "outputId": "6059a434-bf48-491d-fc1d-473b5c3003c0"
      },
      "source": [
        "#Creating model\n",
        "model = keras.Sequential ([\n",
        "    keras.layers.Dense(64, activation = tf.nn.relu, input_shape = [len(train_data.keys())]),\n",
        "    keras.layers.Dense(64, activation = tf.nn.relu),\n",
        "    keras.layers.Dense(7, activation = tf.nn.softmax)\n",
        "    \n",
        "])\n",
        "\n",
        "model.compile(loss = 'sparse_categorical_crossentropy',\n",
        "              optimizer = 'adam',\n",
        "              metrics = ['accuracy']\n",
        "             )"
      ],
      "execution_count": 8,
      "outputs": [
        {
          "output_type": "stream",
          "text": [
            "WARNING: Logging before flag parsing goes to stderr.\n",
            "W0622 00:03:02.267216 140362279524224 deprecation.py:506] From /usr/local/lib/python3.6/dist-packages/tensorflow/python/ops/init_ops.py:1251: calling VarianceScaling.__init__ (from tensorflow.python.ops.init_ops) with dtype is deprecated and will be removed in a future version.\n",
            "Instructions for updating:\n",
            "Call initializer instance with the dtype argument instead of passing it to the constructor\n"
          ],
          "name": "stderr"
        }
      ]
    },
    {
      "cell_type": "code",
      "metadata": {
        "id": "sI60J8zidsGa",
        "colab_type": "code",
        "colab": {
          "base_uri": "https://localhost:8080/",
          "height": 266
        },
        "outputId": "f3eb40b0-df12-42b5-de17-2a9296ed99db"
      },
      "source": [
        "model.summary()"
      ],
      "execution_count": 9,
      "outputs": [
        {
          "output_type": "stream",
          "text": [
            "Model: \"sequential\"\n",
            "_________________________________________________________________\n",
            "Layer (type)                 Output Shape              Param #   \n",
            "=================================================================\n",
            "dense (Dense)                (None, 64)                1088      \n",
            "_________________________________________________________________\n",
            "dense_1 (Dense)              (None, 64)                4160      \n",
            "_________________________________________________________________\n",
            "dense_2 (Dense)              (None, 7)                 455       \n",
            "=================================================================\n",
            "Total params: 5,703\n",
            "Trainable params: 5,703\n",
            "Non-trainable params: 0\n",
            "_________________________________________________________________\n"
          ],
          "name": "stdout"
        }
      ]
    },
    {
      "cell_type": "code",
      "metadata": {
        "id": "Ac_UW_XmfUHg",
        "colab_type": "code",
        "colab": {
          "base_uri": "https://localhost:8080/",
          "height": 200
        },
        "outputId": "01954202-9a46-485a-ed1e-8c7d40c6a4f9"
      },
      "source": [
        "train_data.head()"
      ],
      "execution_count": 16,
      "outputs": [
        {
          "output_type": "execute_result",
          "data": {
            "text/html": [
              "<div>\n",
              "<style scoped>\n",
              "    .dataframe tbody tr th:only-of-type {\n",
              "        vertical-align: middle;\n",
              "    }\n",
              "\n",
              "    .dataframe tbody tr th {\n",
              "        vertical-align: top;\n",
              "    }\n",
              "\n",
              "    .dataframe thead th {\n",
              "        text-align: right;\n",
              "    }\n",
              "</style>\n",
              "<table border=\"1\" class=\"dataframe\">\n",
              "  <thead>\n",
              "    <tr style=\"text-align: right;\">\n",
              "      <th></th>\n",
              "      <th>hair</th>\n",
              "      <th>feathers</th>\n",
              "      <th>eggs</th>\n",
              "      <th>milk</th>\n",
              "      <th>airborne</th>\n",
              "      <th>aquatic</th>\n",
              "      <th>predator</th>\n",
              "      <th>toothed</th>\n",
              "      <th>backbone</th>\n",
              "      <th>breathes</th>\n",
              "      <th>venomous</th>\n",
              "      <th>fins</th>\n",
              "      <th>legs</th>\n",
              "      <th>tail</th>\n",
              "      <th>domestic</th>\n",
              "      <th>catsize</th>\n",
              "    </tr>\n",
              "  </thead>\n",
              "  <tbody>\n",
              "    <tr>\n",
              "      <th>26</th>\n",
              "      <td>0</td>\n",
              "      <td>0</td>\n",
              "      <td>1</td>\n",
              "      <td>0</td>\n",
              "      <td>0</td>\n",
              "      <td>1</td>\n",
              "      <td>1</td>\n",
              "      <td>1</td>\n",
              "      <td>1</td>\n",
              "      <td>1</td>\n",
              "      <td>1</td>\n",
              "      <td>0</td>\n",
              "      <td>4</td>\n",
              "      <td>0</td>\n",
              "      <td>0</td>\n",
              "      <td>0</td>\n",
              "    </tr>\n",
              "    <tr>\n",
              "      <th>86</th>\n",
              "      <td>0</td>\n",
              "      <td>0</td>\n",
              "      <td>1</td>\n",
              "      <td>0</td>\n",
              "      <td>0</td>\n",
              "      <td>1</td>\n",
              "      <td>1</td>\n",
              "      <td>1</td>\n",
              "      <td>1</td>\n",
              "      <td>0</td>\n",
              "      <td>1</td>\n",
              "      <td>1</td>\n",
              "      <td>0</td>\n",
              "      <td>1</td>\n",
              "      <td>0</td>\n",
              "      <td>1</td>\n",
              "    </tr>\n",
              "    <tr>\n",
              "      <th>2</th>\n",
              "      <td>0</td>\n",
              "      <td>0</td>\n",
              "      <td>1</td>\n",
              "      <td>0</td>\n",
              "      <td>0</td>\n",
              "      <td>1</td>\n",
              "      <td>1</td>\n",
              "      <td>1</td>\n",
              "      <td>1</td>\n",
              "      <td>0</td>\n",
              "      <td>0</td>\n",
              "      <td>1</td>\n",
              "      <td>0</td>\n",
              "      <td>1</td>\n",
              "      <td>0</td>\n",
              "      <td>0</td>\n",
              "    </tr>\n",
              "    <tr>\n",
              "      <th>55</th>\n",
              "      <td>1</td>\n",
              "      <td>0</td>\n",
              "      <td>0</td>\n",
              "      <td>1</td>\n",
              "      <td>0</td>\n",
              "      <td>0</td>\n",
              "      <td>0</td>\n",
              "      <td>1</td>\n",
              "      <td>1</td>\n",
              "      <td>1</td>\n",
              "      <td>0</td>\n",
              "      <td>0</td>\n",
              "      <td>4</td>\n",
              "      <td>1</td>\n",
              "      <td>0</td>\n",
              "      <td>1</td>\n",
              "    </tr>\n",
              "    <tr>\n",
              "      <th>75</th>\n",
              "      <td>1</td>\n",
              "      <td>0</td>\n",
              "      <td>0</td>\n",
              "      <td>1</td>\n",
              "      <td>0</td>\n",
              "      <td>1</td>\n",
              "      <td>1</td>\n",
              "      <td>1</td>\n",
              "      <td>1</td>\n",
              "      <td>1</td>\n",
              "      <td>0</td>\n",
              "      <td>1</td>\n",
              "      <td>2</td>\n",
              "      <td>1</td>\n",
              "      <td>0</td>\n",
              "      <td>1</td>\n",
              "    </tr>\n",
              "  </tbody>\n",
              "</table>\n",
              "</div>"
            ],
            "text/plain": [
              "    hair  feathers  eggs  milk  airborne  ...  fins  legs  tail  domestic  catsize\n",
              "26     0         0     1     0         0  ...     0     4     0         0        0\n",
              "86     0         0     1     0         0  ...     1     0     1         0        1\n",
              "2      0         0     1     0         0  ...     1     0     1         0        0\n",
              "55     1         0     0     1         0  ...     0     4     1         0        1\n",
              "75     1         0     0     1         0  ...     1     2     1         0        1\n",
              "\n",
              "[5 rows x 16 columns]"
            ]
          },
          "metadata": {
            "tags": []
          },
          "execution_count": 16
        }
      ]
    },
    {
      "cell_type": "code",
      "metadata": {
        "id": "9waR1DYVdvfE",
        "colab_type": "code",
        "colab": {
          "base_uri": "https://localhost:8080/",
          "height": 1812
        },
        "outputId": "7eca22f1-9467-4a71-e8a5-204191f720a2"
      },
      "source": [
        "model.fit(train_data,train_label,epochs=50)"
      ],
      "execution_count": 11,
      "outputs": [
        {
          "output_type": "stream",
          "text": [
            "Epoch 1/50\n",
            "71/71 [==============================] - 0s 1ms/sample - loss: 2.0244 - acc: 0.0000e+00\n",
            "Epoch 2/50\n",
            "71/71 [==============================] - 0s 119us/sample - loss: 1.8554 - acc: 0.1972\n",
            "Epoch 3/50\n",
            "71/71 [==============================] - 0s 124us/sample - loss: 1.7168 - acc: 0.4225\n",
            "Epoch 4/50\n",
            "71/71 [==============================] - 0s 119us/sample - loss: 1.5852 - acc: 0.5493\n",
            "Epoch 5/50\n",
            "71/71 [==============================] - 0s 114us/sample - loss: 1.4682 - acc: 0.5634\n",
            "Epoch 6/50\n",
            "71/71 [==============================] - 0s 93us/sample - loss: 1.3631 - acc: 0.5775\n",
            "Epoch 7/50\n",
            "71/71 [==============================] - 0s 96us/sample - loss: 1.2696 - acc: 0.6056\n",
            "Epoch 8/50\n",
            "71/71 [==============================] - 0s 87us/sample - loss: 1.1817 - acc: 0.6620\n",
            "Epoch 9/50\n",
            "71/71 [==============================] - 0s 92us/sample - loss: 1.1076 - acc: 0.7183\n",
            "Epoch 10/50\n",
            "71/71 [==============================] - 0s 91us/sample - loss: 1.0346 - acc: 0.7606\n",
            "Epoch 11/50\n",
            "71/71 [==============================] - 0s 142us/sample - loss: 0.9703 - acc: 0.7324\n",
            "Epoch 12/50\n",
            "71/71 [==============================] - 0s 131us/sample - loss: 0.9101 - acc: 0.7324\n",
            "Epoch 13/50\n",
            "71/71 [==============================] - 0s 105us/sample - loss: 0.8548 - acc: 0.7606\n",
            "Epoch 14/50\n",
            "71/71 [==============================] - 0s 114us/sample - loss: 0.8047 - acc: 0.8028\n",
            "Epoch 15/50\n",
            "71/71 [==============================] - 0s 108us/sample - loss: 0.7597 - acc: 0.8028\n",
            "Epoch 16/50\n",
            "71/71 [==============================] - 0s 124us/sample - loss: 0.7174 - acc: 0.8028\n",
            "Epoch 17/50\n",
            "71/71 [==============================] - 0s 121us/sample - loss: 0.6798 - acc: 0.8028\n",
            "Epoch 18/50\n",
            "71/71 [==============================] - 0s 134us/sample - loss: 0.6426 - acc: 0.8310\n",
            "Epoch 19/50\n",
            "71/71 [==============================] - 0s 126us/sample - loss: 0.6063 - acc: 0.8310\n",
            "Epoch 20/50\n",
            "71/71 [==============================] - 0s 136us/sample - loss: 0.5747 - acc: 0.8310\n",
            "Epoch 21/50\n",
            "71/71 [==============================] - 0s 113us/sample - loss: 0.5446 - acc: 0.8310\n",
            "Epoch 22/50\n",
            "71/71 [==============================] - 0s 111us/sample - loss: 0.5142 - acc: 0.8732\n",
            "Epoch 23/50\n",
            "71/71 [==============================] - 0s 125us/sample - loss: 0.4904 - acc: 0.8732\n",
            "Epoch 24/50\n",
            "71/71 [==============================] - 0s 113us/sample - loss: 0.4674 - acc: 0.8873\n",
            "Epoch 25/50\n",
            "71/71 [==============================] - 0s 106us/sample - loss: 0.4448 - acc: 0.8873\n",
            "Epoch 26/50\n",
            "71/71 [==============================] - 0s 118us/sample - loss: 0.4230 - acc: 0.8873\n",
            "Epoch 27/50\n",
            "71/71 [==============================] - 0s 133us/sample - loss: 0.4031 - acc: 0.8732\n",
            "Epoch 28/50\n",
            "71/71 [==============================] - 0s 117us/sample - loss: 0.3843 - acc: 0.8732\n",
            "Epoch 29/50\n",
            "71/71 [==============================] - 0s 129us/sample - loss: 0.3686 - acc: 0.8732\n",
            "Epoch 30/50\n",
            "71/71 [==============================] - 0s 138us/sample - loss: 0.3503 - acc: 0.8732\n",
            "Epoch 31/50\n",
            "71/71 [==============================] - 0s 150us/sample - loss: 0.3367 - acc: 0.8873\n",
            "Epoch 32/50\n",
            "71/71 [==============================] - 0s 187us/sample - loss: 0.3206 - acc: 0.8873\n",
            "Epoch 33/50\n",
            "71/71 [==============================] - 0s 160us/sample - loss: 0.3065 - acc: 0.8873\n",
            "Epoch 34/50\n",
            "71/71 [==============================] - 0s 143us/sample - loss: 0.2943 - acc: 0.8873\n",
            "Epoch 35/50\n",
            "71/71 [==============================] - 0s 167us/sample - loss: 0.2837 - acc: 0.8873\n",
            "Epoch 36/50\n",
            "71/71 [==============================] - 0s 153us/sample - loss: 0.2732 - acc: 0.9014\n",
            "Epoch 37/50\n",
            "71/71 [==============================] - 0s 125us/sample - loss: 0.2595 - acc: 0.9577\n",
            "Epoch 38/50\n",
            "71/71 [==============================] - 0s 127us/sample - loss: 0.2465 - acc: 0.9577\n",
            "Epoch 39/50\n",
            "71/71 [==============================] - 0s 118us/sample - loss: 0.2368 - acc: 0.9718\n",
            "Epoch 40/50\n",
            "71/71 [==============================] - 0s 175us/sample - loss: 0.2275 - acc: 0.9859\n",
            "Epoch 41/50\n",
            "71/71 [==============================] - 0s 232us/sample - loss: 0.2185 - acc: 0.9718\n",
            "Epoch 42/50\n",
            "71/71 [==============================] - 0s 182us/sample - loss: 0.2096 - acc: 0.9718\n",
            "Epoch 43/50\n",
            "71/71 [==============================] - 0s 120us/sample - loss: 0.2006 - acc: 0.9718\n",
            "Epoch 44/50\n",
            "71/71 [==============================] - 0s 139us/sample - loss: 0.1918 - acc: 0.9718\n",
            "Epoch 45/50\n",
            "71/71 [==============================] - 0s 193us/sample - loss: 0.1837 - acc: 0.9718\n",
            "Epoch 46/50\n",
            "71/71 [==============================] - 0s 144us/sample - loss: 0.1757 - acc: 0.9859\n",
            "Epoch 47/50\n",
            "71/71 [==============================] - 0s 204us/sample - loss: 0.1691 - acc: 0.9859\n",
            "Epoch 48/50\n",
            "71/71 [==============================] - 0s 178us/sample - loss: 0.1605 - acc: 1.0000\n",
            "Epoch 49/50\n",
            "71/71 [==============================] - 0s 149us/sample - loss: 0.1540 - acc: 1.0000\n",
            "Epoch 50/50\n",
            "71/71 [==============================] - 0s 152us/sample - loss: 0.1472 - acc: 1.0000\n"
          ],
          "name": "stdout"
        },
        {
          "output_type": "execute_result",
          "data": {
            "text/plain": [
              "<tensorflow.python.keras.callbacks.History at 0x7fa86bee1710>"
            ]
          },
          "metadata": {
            "tags": []
          },
          "execution_count": 11
        }
      ]
    },
    {
      "cell_type": "code",
      "metadata": {
        "id": "sIiSS3RTemj3",
        "colab_type": "code",
        "colab": {
          "base_uri": "https://localhost:8080/",
          "height": 35
        },
        "outputId": "a7d97ec5-2eb2-45b9-dd43-2bf8eb2bacb2"
      },
      "source": [
        "#Evaluating loss and accuracy of model when using it on test dataset\n",
        "test_loss, test_acc = model.evaluate(test_data,test_label)"
      ],
      "execution_count": 17,
      "outputs": [
        {
          "output_type": "stream",
          "text": [
            "\r30/30 [==============================] - 0s 691us/sample - loss: 0.3891 - acc: 0.9333\n"
          ],
          "name": "stdout"
        }
      ]
    },
    {
      "cell_type": "code",
      "metadata": {
        "id": "YIsxqRDtg0iu",
        "colab_type": "code",
        "colab": {}
      },
      "source": [
        "predictions = model.predict(test_data)"
      ],
      "execution_count": 0,
      "outputs": []
    },
    {
      "cell_type": "code",
      "metadata": {
        "id": "NXG6MzQthKIq",
        "colab_type": "code",
        "colab": {
          "base_uri": "https://localhost:8080/",
          "height": 124
        },
        "outputId": "78915e9c-345c-4238-df1f-84a7b752947b"
      },
      "source": [
        "test_label_check = test_label.reset_index()\n",
        "test_label_check = test_label_check['class_type']\n",
        "test_label_check.head()\n",
        "\n"
      ],
      "execution_count": 60,
      "outputs": [
        {
          "output_type": "execute_result",
          "data": {
            "text/plain": [
              "0    0\n",
              "1    3\n",
              "2    1\n",
              "3    1\n",
              "4    4\n",
              "Name: class_type, dtype: int64"
            ]
          },
          "metadata": {
            "tags": []
          },
          "execution_count": 60
        }
      ]
    },
    {
      "cell_type": "code",
      "metadata": {
        "id": "V_rJBxt-jkiM",
        "colab_type": "code",
        "colab": {
          "base_uri": "https://localhost:8080/",
          "height": 35
        },
        "outputId": "0817fd3e-994c-4fcd-8c24-22c43f2ff102"
      },
      "source": [
        "#Checking class of prediction\n",
        "class_dict[np.argmax(predictions[1])]"
      ],
      "execution_count": 63,
      "outputs": [
        {
          "output_type": "execute_result",
          "data": {
            "text/plain": [
              "'Fish'"
            ]
          },
          "metadata": {
            "tags": []
          },
          "execution_count": 63
        }
      ]
    },
    {
      "cell_type": "code",
      "metadata": {
        "id": "j0ssMWs6mV7p",
        "colab_type": "code",
        "colab": {
          "base_uri": "https://localhost:8080/",
          "height": 35
        },
        "outputId": "f00b6db8-8e13-4403-e293-b8470d21a5ec"
      },
      "source": [
        "#Verifying predicted class acgainst the actual class\n",
        "class_dict[test_label_check[1]]"
      ],
      "execution_count": 62,
      "outputs": [
        {
          "output_type": "execute_result",
          "data": {
            "text/plain": [
              "'Fish'"
            ]
          },
          "metadata": {
            "tags": []
          },
          "execution_count": 62
        }
      ]
    },
    {
      "cell_type": "code",
      "metadata": {
        "id": "_wj1kfNLmkuY",
        "colab_type": "code",
        "colab": {}
      },
      "source": [
        "#Function to verify prediction\n",
        "def prediction_check(i, predictions, test_label_check):\n",
        "  if class_dict[np.argmax(predictions[i])] ==  class_dict[test_label_check[i]]:\n",
        "    return f'Prediction Successful! Animal Category : {class_dict[test_label_check[i]]}'\n",
        "  else:\n",
        "    \"Prediction Unsuccessful\""
      ],
      "execution_count": 0,
      "outputs": []
    },
    {
      "cell_type": "code",
      "metadata": {
        "id": "7sQ6VpijmyTH",
        "colab_type": "code",
        "colab": {
          "base_uri": "https://localhost:8080/",
          "height": 35
        },
        "outputId": "c4810e8a-647a-46fd-dc34-c47e60e9a7eb"
      },
      "source": [
        "prediction_check(6, predictions, test_label_check)"
      ],
      "execution_count": 84,
      "outputs": [
        {
          "output_type": "execute_result",
          "data": {
            "text/plain": [
              "'Prediction Successful! Animal Category : Mammal'"
            ]
          },
          "metadata": {
            "tags": []
          },
          "execution_count": 84
        }
      ]
    },
    {
      "cell_type": "code",
      "metadata": {
        "id": "Dk8Q3iiOnFUf",
        "colab_type": "code",
        "colab": {}
      },
      "source": [
        "def prediction_bar(i, predictions, test_label_check, class_dict):\n",
        "  predictions, test_label_check = predictions[i], test_label_check[i]\n",
        "  index = [0,1,2,3,4,5,6]\n",
        "  thisplot = plt.bar(index, predictions.tolist())\n",
        "  plt.xticks(np.arange(0,7, step =1), ('Mammal','Bird','Reptile','fish','Amphibian','Bug','Invertebrate'), rotation = 20)\n",
        "  \n",
        "  \n",
        "  if class_dict[np.argmax(predictions)] ==  class_dict[test_label_check]:\n",
        "    plt.title(f'{round(100*np.amax(predictions))}% {class_dict[np.argmax(predictions)]}', color = 'green')\n",
        "  else:\n",
        "    plt.title(f'{round(100*np.amax(predictions))}% {class_dict[np.argmax(predictions)]}', color = 'red')"
      ],
      "execution_count": 0,
      "outputs": []
    },
    {
      "cell_type": "code",
      "metadata": {
        "id": "lpZeij7Tnrr7",
        "colab_type": "code",
        "colab": {
          "base_uri": "https://localhost:8080/",
          "height": 302
        },
        "outputId": "5eed80d7-7cab-4e3f-dd08-f328a4882373"
      },
      "source": [
        "prediction_bar(6, predictions, test_label_check, class_dict)"
      ],
      "execution_count": 94,
      "outputs": [
        {
          "output_type": "display_data",
          "data": {
            "image/png": "[encoded data removed]",
            "text/plain": [
              "<Figure size 432x288 with 1 Axes>"
            ]
          },
          "metadata": {
            "tags": []
          }
        }
      ]
    },
    {
      "cell_type": "code",
      "metadata": {
        "id": "NT_hf9vluVof",
        "colab_type": "code",
        "colab": {}
      },
      "source": [
        "#Next thing to do is possibly plot all 30 'Test' prediction bar graphs. Verifying whether the predictions are correct or not. "
      ],
      "execution_count": 0,
      "outputs": []
    }
  ]
}